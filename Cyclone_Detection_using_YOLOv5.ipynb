{
  "cells": [
    {
      "cell_type": "code",
      "execution_count": null,
      "metadata": {
        "colab": {
          "base_uri": "https://localhost:8080/"
        },
        "id": "SOA67A0Yvy_A",
        "outputId": "0b999df4-e161-4863-b5e6-a43e73d4e6a2"
      },
      "outputs": [],
      "source": [
        "import os\n",
        "from pathlib import Path\n",
        "\n",
        "BASE_DIR = Path(os.path.abspath(\"\")).resolve()\n",
        "os.chdir(BASE_DIR)\n",
        "\n",
        "print(f\"Working directory set to: {BASE_DIR}\")\n",
        "%cd ..BASE_DIR\n"
      ]
    },
    {
      "cell_type": "code",
      "execution_count": null,
      "metadata": {
        "colab": {
          "base_uri": "https://localhost:8080/"
        },
        "id": "et-7Vz3zXUI_",
        "outputId": "9245aef3-f9b3-4951-80bd-089398d71a70"
      },
      "outputs": [],
      "source": [
        "!git clone https://github.com/ultralytics/yolov5\n",
        "%cd yolov5\n",
        "!pip install -r requirements.txt"
      ]
    },
    {
      "cell_type": "code",
      "execution_count": null,
      "metadata": {
        "colab": {
          "base_uri": "https://localhost:8080/"
        },
        "id": "cRMgu6lsXfD3",
        "outputId": "ec0b5a4f-c4cd-4f27-f5ce-8cc9fb670890"
      },
      "outputs": [],
      "source": [
        "%cd ..\n",
        "!git clone https://github.com/academy21/TC-Satellite-DataSet.git\n",
        "%cd TC-Satellite-DataSet"
      ]
    },
    {
      "cell_type": "code",
      "execution_count": null,
      "metadata": {
        "colab": {
          "base_uri": "https://localhost:8080/"
        },
        "id": "Y62wKVeMeyqw",
        "outputId": "c4e67cf8-06ce-4389-d494-d8d9cd91f55b"
      },
      "outputs": [],
      "source": [
        "from pathlib import Path\n",
        "base = BASE_DIR / 'TC-Satellite-DataSet'\n",
        "print(base)\n",
        "\n",
        "print(\"📂 TXT Folder 1:\", list((base / 'TC_by_Classes_txt_1').glob('*')))\n",
        "print(\"📂 TXT Folder 2:\", list((base / 'TC_by_Classes_txt_2').glob('*')))\n",
        "print(\"📂 Labels Folder:\", list((base / 'labels').glob('*')))\n"
      ]
    },
    {
      "cell_type": "code",
      "execution_count": null,
      "metadata": {
        "colab": {
          "base_uri": "https://localhost:8080/"
        },
        "id": "O1AjfLRxfNbo",
        "outputId": "955f3634-2611-472c-d8b0-bd110f06ace4"
      },
      "outputs": [],
      "source": [
        "sample_path = base / 'TC_by_Classes_txt_1' / 'mt201910191400_ir1.txt'\n",
        "with open(sample_path) as f:\n",
        "    print(f.read())"
      ]
    },
    {
      "cell_type": "code",
      "execution_count": null,
      "metadata": {
        "colab": {
          "base_uri": "https://localhost:8080/"
        },
        "id": "Rods4tTUfmTn",
        "outputId": "dc909524-d9ce-4107-8ff8-c1a843a75b6e"
      },
      "outputs": [],
      "source": [
        "from pathlib import Path\n",
        "\n",
        "# ✅ Define the base directory\n",
        "base = BASE_DIR / 'TC-Satellite-DataSet'\n",
        "# ✅ Define the folder paths\n",
        "txt_folders = [\n",
        "    base / 'TC_by_Classes_txt_1',\n",
        "    base / 'TC_by_Classes_txt_2'\n",
        "]\n",
        "\n",
        "# ✅ Define where your images are located\n",
        "images_dir = base / 'images'\n",
        "\n",
        "# ✅ Define image matching function\n",
        "def find_image_file(stem):\n",
        "    for ext in ['.jpg', '.png', '.jpeg']:\n",
        "        candidate = images_dir / f\"{stem}_pro{ext}\"\n",
        "        if candidate.exists():\n",
        "            return candidate\n",
        "    return None\n",
        "\n",
        "# ✅ Now find missing images\n",
        "missing = []\n",
        "for txt_folder in txt_folders:\n",
        "    for label_file in txt_folder.glob('*.txt'):\n",
        "        img_file = find_image_file(label_file.stem)\n",
        "        if img_file is None:\n",
        "            missing.append(label_file.name)\n",
        "\n",
        "# ✅ Output\n",
        "print(\"❌ Total missing:\", len(missing))\n",
        "print(\"🔍 Example missing:\", missing[:5])\n"
      ]
    },
    {
      "cell_type": "code",
      "execution_count": null,
      "metadata": {
        "colab": {
          "base_uri": "https://localhost:8080/"
        },
        "id": "6JZ5C8y_fvfX",
        "outputId": "512d7ffb-c98a-4914-e736-df71fde81f03"
      },
      "outputs": [],
      "source": [
        "from pathlib import Path\n",
        "\n",
        "base = BASE_DIR / 'TC-Satellite-DataSet'\n",
        "image_folders = [\n",
        "    base / 'TC_by_Classes_jpg_1',\n",
        "    base / 'TC_by_Classes_jpg_2', \n",
        "    base / 'TC_by_Classes_jpg_3',\n",
        "    base / 'TC_by_Classes_jpg_4',\n",
        "    base / 'TC_by_Classes_jpg_5',\n",
        "]\n",
        "\n",
        "image_files = []\n",
        "for folder in image_folders:\n",
        "    if folder.exists():\n",
        "        image_files.extend(folder.glob('*.jpg'))\n",
        "\n",
        "print(\"✅ Total images found:\", len(image_files))\n",
        "print(\"🖼️ Example image filenames:\", [img.name for img in image_files[:5]])\n"
      ]
    },
    {
      "cell_type": "code",
      "execution_count": null,
      "metadata": {
        "id": "DDkqkGqVf2dK"
      },
      "outputs": [],
      "source": [
        "def find_image_file(base_name):\n",
        "    for folder in image_folders:\n",
        "        # Check for image with \"_pro.jpg\" suffix\n",
        "        image_path = folder / (base_name + '_pro.jpg')\n",
        "        if image_path.exists():\n",
        "            return image_path\n",
        "        # Fallback: check plain .jpg\n",
        "        image_path = folder / (base_name + '.jpg')\n",
        "        if image_path.exists():\n",
        "            return image_path\n",
        "    return None\n"
      ]
    },
    {
      "cell_type": "code",
      "execution_count": null,
      "metadata": {
        "colab": {
          "base_uri": "https://localhost:8080/"
        },
        "id": "Y4Zyno9lgGEi",
        "outputId": "1a314fd0-93cb-4b58-9d03-1aacd3d49249"
      },
      "outputs": [],
      "source": [
        "import os\n",
        "from pathlib import Path\n",
        "from shutil import copy2\n",
        "from PIL import Image\n",
        "\n",
        "base = BASE_DIR / 'TC-Satellite-DataSet'\n",
        "txt_folders = [base / f'TC_by_Classes_txt_{i}' for i in range(1, 6)]\n",
        "image_folders = [base / f'TC_by_Classes_jpg_{i}' for i in range(1, 6)]\n",
        "\n",
        "output_img_dir = BASE_DIR / 'dataset'/ 'images' / 'train'\n",
        "output_lbl_dir = BASE_DIR / 'dataset'/ 'labels' / 'train'\n",
        "output_img_dir.mkdir(parents=True, exist_ok=True)\n",
        "output_lbl_dir.mkdir(parents=True, exist_ok=True)\n",
        "\n",
        "def find_image_file(base_name):\n",
        "    for folder in image_folders:\n",
        "        pro_path = folder / f'{base_name}_pro.jpg'\n",
        "        if pro_path.exists():\n",
        "            return pro_path\n",
        "        jpg_path = folder / f'{base_name}.jpg'\n",
        "        if jpg_path.exists():\n",
        "            return jpg_path\n",
        "    return None\n",
        "\n",
        "skipped = 0\n",
        "written = 0\n",
        "\n",
        "for txt_folder in txt_folders:\n",
        "    for label_path in txt_folder.glob('*.txt'):\n",
        "        base_name = label_path.stem\n",
        "        image_path = find_image_file(base_name)\n",
        "\n",
        "        if image_path is None:\n",
        "            skipped += 1\n",
        "            continue\n",
        "\n",
        "        try:\n",
        "            with Image.open(image_path) as im:\n",
        "                width, height = im.size\n",
        "        except:\n",
        "            skipped += 1\n",
        "            continue\n",
        "\n",
        "        with open(label_path) as f:\n",
        "            lines = f.readlines()\n",
        "\n",
        "        label_lines = []\n",
        "        for line in lines:\n",
        "            parts = line.strip().split(',')\n",
        "            if len(parts) != 5:\n",
        "                continue\n",
        "            cls = int(parts[0].replace('Class_', '').strip())\n",
        "            x, y, w, h = map(float, parts[1:])\n",
        "            x_center = (x + w / 2) / width\n",
        "            y_center = (y + h / 2) / height\n",
        "            norm_w = w / width\n",
        "            norm_h = h / height\n",
        "            label_lines.append(f\"{cls} {x_center:.6f} {y_center:.6f} {norm_w:.6f} {norm_h:.6f}\")\n",
        "\n",
        "        # Save image and label\n",
        "        new_img_path = output_img_dir / image_path.name\n",
        "        new_lbl_path = output_lbl_dir / (image_path.stem + '.txt')\n",
        "        copy2(image_path, new_img_path)\n",
        "        with open(new_lbl_path, 'w') as f_out:\n",
        "            f_out.write('\\n'.join(label_lines))\n",
        "\n",
        "        written += 1\n",
        "\n",
        "print(f\"✅ Conversion done. Images/Labels written: {written}\")\n",
        "print(f\"❌ Skipped (missing or invalid): {skipped}\")\n"
      ]
    },
    {
      "cell_type": "code",
      "execution_count": null,
      "metadata": {
        "colab": {
          "base_uri": "https://localhost:8080/"
        },
        "id": "uJlI3ZVqgv8Y",
        "outputId": "a448978d-1c3d-4d95-8d4a-18248111cd20"
      },
      "outputs": [],
      "source": [
        "print(\"🖼️ Total images:\", len(list(output_img_dir.glob('*.jpg'))))\n",
        "print(\"🏷️ Total labels:\", len(list(output_lbl_dir.glob('*.txt'))))"
      ]
    },
    {
      "cell_type": "code",
      "execution_count": null,
      "metadata": {
        "id": "On_xYEiY1g3f"
      },
      "outputs": [],
      "source": [
        "#❌ use it when it mostly needed not for casual running\n",
        "\n",
        "import shutil\n",
        "\n",
        "dataset_folder = BASE_DIR / 'dataset'\n",
        "\n",
        "try:\n",
        "    shutil.rmtree(dataset_folder)\n",
        "    print(f\"Folder '{dataset_folder}' deleted successfully.\")\n",
        "except FileNotFoundError:\n",
        "    print(f\"Folder '{dataset_folder}' not found.\")\n",
        "except OSError as e:\n",
        "    print(f\"Error deleting folder '{dataset_folder}': {e}\")\n"
      ]
    },
    {
      "cell_type": "code",
      "execution_count": null,
      "metadata": {
        "colab": {
          "base_uri": "https://localhost:8080/"
        },
        "id": "bV-kxf2QXkrX",
        "outputId": "429d6a1f-5b05-4b9e-83af-5e21aecf15c0"
      },
      "outputs": [],
      "source": [
        "import random, shutil\n",
        "\n",
        "val_split = 0.1  # 10% validation\n",
        "train_imgs = list(output_img_dir.glob('*.jpg'))\n",
        "random.shuffle(train_imgs)\n",
        "val_count = int(len(train_imgs) * val_split)\n",
        "\n",
        "val_img_dir = BASE_DIR / 'dataset'/ 'images' / 'val'\n",
        "val_lbl_dir = BASE_DIR / 'dataset'/ 'labels' / 'val'\n",
        "\n",
        "val_img_dir.mkdir(parents=True, exist_ok=True)\n",
        "val_lbl_dir.mkdir(parents=True, exist_ok=True)\n",
        "\n",
        "for img_path in train_imgs[:val_count]:\n",
        "    lbl_path = output_lbl_dir / (img_path.stem + '.txt')\n",
        "    shutil.move(str(img_path), val_img_dir / img_path.name)\n",
        "    shutil.move(str(lbl_path), val_lbl_dir / lbl_path.name)\n",
        "\n",
        "print(\"✅ Split complete.\")\n",
        "\n"
      ]
    },
    {
      "cell_type": "code",
      "execution_count": null,
      "metadata": {
        "colab": {
          "base_uri": "https://localhost:8080/"
        },
        "id": "oYXYUBv9hPrZ",
        "outputId": "ff4a3aec-ec70-4710-f5e5-c82ba05ae243"
      },
      "outputs": [],
      "source": [
        "import re\n",
        "from pathlib import Path\n",
        "\n",
        "txt_folders = [BASE_DIR / 'TC-Satellite-DataSet' / f'TC_by_Classes_txt_{i}' for i in range(1, 6)]\n",
        "class_ids = set()\n",
        "\n",
        "for folder in txt_folders:\n",
        "    for file in folder.glob('*.txt'):\n",
        "        with open(file) as f:\n",
        "            for line in f:\n",
        "                match = re.match(r'Class_(\\d+)', line.strip())\n",
        "                if match:\n",
        "                    class_ids.add(int(match.group(1)))\n",
        "\n",
        "sorted_classes = sorted(class_ids)\n",
        "print(f\"✅ Total classes found: {len(sorted_classes)}\")\n",
        "print(\"📌 Classes:\", [f\"Class_{i}\" for i in sorted_classes])\n"
      ]
    },
    {
      "cell_type": "code",
      "execution_count": null,
      "metadata": {
        "colab": {
          "base_uri": "https://localhost:8080/"
        },
        "id": "Rcc0U4zBlFxi",
        "outputId": "d642efdd-e0ae-44e9-8376-e8b45277ba99"
      },
      "outputs": [],
      "source": [
        "from pathlib import Path\n",
        "\n",
        "label_dir = BASE_DIR / 'dataset' / 'labels' / 'train'\n",
        "class_ids = set()\n",
        "\n",
        "for label_file in label_dir.glob('*.txt'):\n",
        "    with open(label_file) as f:\n",
        "        for line in f:\n",
        "            if line.strip():\n",
        "                class_id = int(line.strip().split()[0])\n",
        "                class_ids.add(class_id)\n",
        "\n",
        "max_class_id = max(class_ids)\n",
        "sorted_classes = sorted(class_ids)\n",
        "\n",
        "print(f\"✅ Highest class ID found: {max_class_id}\")\n",
        "print(f\"🔢 Set nc to: {max_class_id + 1}\")\n",
        "print(\"📌 Classes:\", [f\"Class_{i}\" for i in sorted_classes])"
      ]
    },
    {
      "cell_type": "code",
      "execution_count": null,
      "metadata": {
        "colab": {
          "base_uri": "https://localhost:8080/"
        },
        "id": "tHu6GTcIYF6X",
        "outputId": "94631eec-738f-4ece-e04b-a1d8cdfb4122"
      },
      "outputs": [],
      "source": [
        "\n",
        "import yaml\n",
        "\n",
        "data = {\n",
        "    'path': '/content/dataset',  # Replace with the actual path to your dataset\n",
        "    'train': 'images/train',\n",
        "    'val': 'images/val',\n",
        "    'nc': 8,  # Number of classes (replace with the actual number)\n",
        "    'names': ['Class_0', 'Class_1', 'Class_2', 'Class_3', 'Class_4', 'Class_5', 'Class_6', 'Class_7']  # Class names (replace with the actual class names)\n",
        "}\n",
        "\n",
        "yolov5_dir = BASE_DIR / 'yolov5'\n",
        "yaml_file_path = yolov5_dir / 'cyclone.yaml'\n",
        "\n",
        "yaml_file_path.parent.mkdir(parents=True, exist_ok=True)\n",
        "\n",
        "with open(yaml_file_path, 'w') as f:\n",
        "    yaml.dump(data, f, indent=2)\n",
        "\n",
        "print(f\"Successfully created cyclone.yaml at: {yaml_file_path}\")\n"
      ]
    },
    {
      "cell_type": "code",
      "execution_count": null,
      "metadata": {
        "colab": {
          "base_uri": "https://localhost:8080/"
        },
        "id": "oOYT1NW7Yc_X",
        "outputId": "e7f07dcb-6ffa-4ee7-84b5-95f52b92627d"
      },
      "outputs": [],
      "source": [
        "%cd ../yolov5\n",
        "!python train.py --img 640 --batch 8 --epochs 100 --data cyclone.yaml --weights yolov5l.pt --name cyclone_detector --cache"
      ]
    },
    {
      "cell_type": "code",
      "execution_count": null,
      "metadata": {
        "id": "J_duHK9IY6Pe"
      },
      "outputs": [],
      "source": [
        "!python val.py --weights runs/train/cyclone_detector/weights/best.pt --data cyclone.yaml --img 640"
      ]
    },
    {
      "cell_type": "code",
      "execution_count": null,
      "metadata": {
        "colab": {
          "base_uri": "https://localhost:8080/"
        },
        "id": "mFTxtyF7Y-fG",
        "outputId": "90adec18-0882-4fb1-c216-e8f9710d386a"
      },
      "outputs": [],
      "source": [
        "!python detect.py --weights runs/train/cyclone_detector/weights/best.pt --img 640 --source ../dataset/images/val --conf 0.25"
      ]
    },
    {
      "cell_type": "code",
      "execution_count": null,
      "metadata": {
        "id": "va4ts1_ZULDt"
      },
      "outputs": [],
      "source": [
        "import pandas as pd\n",
        "\n",
        "df = pd.read_csv('runs/train/cyclone_detector/results.csv')\n",
        "print(df.columns.tolist())\n"
      ]
    },
    {
      "cell_type": "code",
      "execution_count": null,
      "metadata": {
        "id": "MtOCyQ0yVbEl"
      },
      "outputs": [],
      "source": [
        "import pandas as pd\n",
        "import matplotlib.pyplot as plt\n",
        "\n",
        "df = pd.read_csv('runs/train/cyclone_detector/results.csv')\n",
        "\n",
        "df.columns = df.columns.str.strip()\n",
        "\n",
        "print(df.head())\n",
        "\n",
        "df['epoch'] = pd.to_numeric(df['epoch'], errors='coerce')\n",
        "\n",
        "df = df.dropna(subset=['epoch'])\n",
        "\n",
        "print(df[['epoch', 'metrics/precision', 'metrics/recall', 'metrics/mAP_0.5']].head())\n"
      ]
    },
    {
      "cell_type": "code",
      "execution_count": null,
      "metadata": {
        "id": "Kk1hATdPWIUU"
      },
      "outputs": [],
      "source": [
        "import pandas as pd\n",
        "import matplotlib.pyplot as plt\n",
        "\n",
        "df = pd.read_csv('runs/train/cyclone_detector/results.csv')\n",
        "df.columns = df.columns.str.strip()\n",
        "\n",
        "plt.figure(figsize=(10, 6))\n",
        "plt.scatter(df['epoch'], df['metrics/mAP_0.5'], label='mAP@0.5', marker='o')\n",
        "plt.scatter(df['epoch'], df['metrics/precision'], label='Precision', marker='s')\n",
        "plt.scatter(df['epoch'], df['metrics/recall'], label='Recall', marker='^')\n",
        "\n",
        "plt.title('Training Metrics')\n",
        "plt.xlabel('Epoch')\n",
        "plt.ylabel('Value')\n",
        "plt.legend()\n",
        "plt.grid(True)\n",
        "plt.tight_layout()\n",
        "plt.show()\n"
      ]
    },
    {
      "cell_type": "code",
      "execution_count": null,
      "metadata": {
        "id": "xKPnUKPTZJ1W"
      },
      "outputs": [],
      "source": [
        "!python export.py --weights runs/train/cyclone_detector/weights/best.pt --include onnx"
      ]
    },
    {
      "cell_type": "code",
      "execution_count": null,
      "metadata": {
        "id": "H0uQ06StZKrX"
      },
      "outputs": [],
      "source": [
        "!python export.py --weights runs/train/cyclone_detector2/weights/best.pt --include tflite"
      ]
    },
    {
      "cell_type": "code",
      "execution_count": null,
      "metadata": {
        "colab": {
          "base_uri": "https://localhost:8080/",
          "height": 34
        },
        "id": "8fYNKLusZOK-",
        "outputId": "854ba349-7fb4-4740-8269-f4de5b800be8"
      },
      "outputs": [
        {
          "data": {
            "application/javascript": "\n    async function download(id, filename, size) {\n      if (!google.colab.kernel.accessAllowed) {\n        return;\n      }\n      const div = document.createElement('div');\n      const label = document.createElement('label');\n      label.textContent = `Downloading \"${filename}\": `;\n      div.appendChild(label);\n      const progress = document.createElement('progress');\n      progress.max = size;\n      div.appendChild(progress);\n      document.body.appendChild(div);\n\n      const buffers = [];\n      let downloaded = 0;\n\n      const channel = await google.colab.kernel.comms.open(id);\n      // Send a message to notify the kernel that we're ready.\n      channel.send({})\n\n      for await (const message of channel.messages) {\n        // Send a message to notify the kernel that we're ready.\n        channel.send({})\n        if (message.buffers) {\n          for (const buffer of message.buffers) {\n            buffers.push(buffer);\n            downloaded += buffer.byteLength;\n            progress.value = downloaded;\n          }\n        }\n      }\n      const blob = new Blob(buffers, {type: 'application/binary'});\n      const a = document.createElement('a');\n      a.href = window.URL.createObjectURL(blob);\n      a.download = filename;\n      div.appendChild(a);\n      a.click();\n      div.remove();\n    }\n  ",
            "text/plain": [
              "<IPython.core.display.Javascript object>"
            ]
          },
          "metadata": {},
          "output_type": "display_data"
        },
        {
          "data": {
            "application/javascript": "download(\"download_e5881f87-f41c-4381-90ec-09fe8a1fef4e\", \"best.onnx\", 185061286)",
            "text/plain": [
              "<IPython.core.display.Javascript object>"
            ]
          },
          "metadata": {},
          "output_type": "display_data"
        }
      ],
      "source": [
        "from google.colab import files\n",
        "files.download('runs/train/cyclone_detector2/weights/best.onnx')  # or .tflite"
      ]
    }
  ],
  "metadata": {
    "accelerator": "GPU",
    "colab": {
      "gpuType": "T4",
      "provenance": []
    },
    "kernelspec": {
      "display_name": "Python 3",
      "name": "python3"
    },
    "language_info": {
      "codemirror_mode": {
        "name": "ipython",
        "version": 3
      },
      "file_extension": ".py",
      "mimetype": "text/x-python",
      "name": "python",
      "nbconvert_exporter": "python",
      "pygments_lexer": "ipython3",
      "version": "3.13.3"
    }
  },
  "nbformat": 4,
  "nbformat_minor": 0
}
